{
  "nbformat": 4,
  "nbformat_minor": 0,
  "metadata": {
    "colab": {
      "provenance": [],
      "toc_visible": true,
      "collapsed_sections": []
    },
    "kernelspec": {
      "name": "python3",
      "display_name": "Python 3"
    },
    "language_info": {
      "name": "python"
    }
  },
  "cells": [
    {
      "cell_type": "markdown",
      "metadata": {
        "id": "gKjptN2GwOvg"
      },
      "source": [
        "# Homework \n",
        "1. Use random module to generate an increasing random integer list (the next element is the list must be greater than the current element) such that the first element begins from 0 and the distance between consecutive sequence must be at least 1 and not greater than 5. The size of list is specified by the user.\n",
        "\n",
        "\n",
        "  Examples:\n",
        "  ```\n",
        "  List size: 5\n",
        "  Output: 0, 2, 3, 7, 10\n",
        "  ```\n",
        "  ```\n",
        "  List size: 5\n",
        "Output: 0, 5, 8, 10, 13\n",
        "```\n",
        "\n",
        "\n"
      ]
    },
    {
      "cell_type": "code",
      "metadata": {
        "id": "RYaFGzErjMDE",
        "colab": {
          "base_uri": "https://localhost:8080/"
        },
        "outputId": "637329e9-8617-4f62-e71d-a76e0aadbf09"
      },
      "source": [
        "import random\n",
        "rand_list = [0]\n",
        "size = input('List size :')\n",
        "size = int(size)\n",
        "for i in range (0,size-1):\n",
        "  rand_start = int(rand_list[i])\n",
        "  rand_num = random.randint(rand_start+1,rand_start+5)\n",
        "  rand_list.append(rand_num)\n",
        "print(rand_list)"
      ],
      "execution_count": null,
      "outputs": [
        {
          "output_type": "stream",
          "name": "stdout",
          "text": [
            "List size :5\n",
            "[0, 3, 8, 11, 14]\n"
          ]
        }
      ]
    },
    {
      "cell_type": "markdown",
      "metadata": {
        "id": "2uZTlYSzjIsM"
      },
      "source": [
        "2. Use random module to generate an decreasing random float list (the next element is the list must be greater than the current element) such that the first element begins from 0 and the distance between consecutive sequence must be at least 1 and not greater than 5. The size of list is specified by the user.\n",
        "\n",
        "\n",
        "Examples:\n",
        "```\n",
        "List size: 6\n",
        "Output: 0, -2.5, -3.74, -7.6, -10.5, -16.5\n",
        "```\n",
        "```\n",
        "List size: 5\n",
        "Output: 0, -3.6, -8.2, -9.3, -13.0\n",
        "```\n"
      ]
    },
    {
      "cell_type": "code",
      "source": [
        "import random\n",
        "rand_list = [0]\n",
        "size = input('List size :')\n",
        "size = int(size)\n",
        "for i in range (0,size-1):\n",
        "  rand_start = int(rand_list[i])\n",
        "  rand_num = random.uniform(rand_start+1,rand_start+5)\n",
        "  rand_list.append(rand_num)\n",
        "print(rand_list)"
      ],
      "metadata": {
        "id": "i3jorYCl99fy",
        "colab": {
          "base_uri": "https://localhost:8080/"
        },
        "outputId": "0944249e-72c3-42c9-c887-2263dbda9912"
      },
      "execution_count": null,
      "outputs": [
        {
          "output_type": "stream",
          "name": "stdout",
          "text": [
            "List size :5\n",
            "[0, 3.168839841246353, 6.19199921227532, 9.369077953478623, 11.662207483397143]\n"
          ]
        }
      ]
    },
    {
      "cell_type": "markdown",
      "source": [
        "3. Given an example of input string that makes each of the following statement returns the given output\n",
        "\n",
        "\n",
        "```\n",
        "    name = __________\n",
        "    print(name.title())\n",
        "    -->T\t\n",
        "\n",
        "    name = __________\n",
        "    print(name.split()\n",
        "    -->['I', 'am', 'a', 'good','student.']\n",
        "\n",
        "    str_list = _________\n",
        "    sep = _________\n",
        "    print(sep.join(str_list)) \n",
        "    -->I--am--a--good--student.\n",
        "\n",
        "    name = \"password\"\n",
        "    print(name.replace(___,___)) \n",
        "    -->pa$$word.\n",
        "\n",
        "    name = ____________\n",
        "    print((min(name) == 'A') and (max(name) == 'a') and (len(name) > 5)) \n",
        "    -->True\n",
        "```\n"
      ],
      "metadata": {
        "id": "9L-Zj_cBmde3"
      }
    },
    {
      "cell_type": "code",
      "source": [
        "name = 't'\n",
        "print(name.title())\n",
        "#T\t\n",
        "\n",
        "name =  'I am a good student.'\n",
        "print(name.split())\n",
        "#['I', 'am', 'a', 'good','student.']\n",
        "\n",
        "str_list = ['I', 'am', 'a', 'good','student.']\n",
        "sep =  '--'\n",
        "print(sep.join(str_list)) \n",
        "# I--am--a--good--student.\n",
        "\n",
        "name = \"password\"\n",
        "print(name.replace('ss','$$')) \n",
        "#pa$$word\n",
        "\n",
        "\n",
        "name = 'Aaaaaaaa'\n",
        "print((min(name) == 'A') and (max(name) == 'a') and (len(name) > 5)) \n",
        "#True"
      ],
      "metadata": {
        "colab": {
          "base_uri": "https://localhost:8080/"
        },
        "id": "fDSO4LTpn-H5",
        "outputId": "5eeb55fd-faff-4404-d72b-fefa97055cf4"
      },
      "execution_count": null,
      "outputs": [
        {
          "output_type": "stream",
          "name": "stdout",
          "text": [
            "T\n",
            "['I', 'am', 'a', 'good', 'student.']\n",
            "I--am--a--good--student.\n",
            "pa$$word\n",
            "True\n"
          ]
        }
      ]
    },
    {
      "cell_type": "markdown",
      "source": [
        "\n",
        "4. Put details of each student to the list of each student detail's list (std_list) as follows:\n",
        "\n",
        "```\n",
        "std_list = [[\"Leonord\",'X','B', 91.2], ['Penny','X','B', 91.2],...]\n",
        "```\n",
        "\n",
        "  Then, use string format method to print out student details as shown in the figure below."
      ],
      "metadata": {
        "id": "3oDhYRjV8cc5"
      }
    },
    {
      "cell_type": "markdown",
      "source": [
        "![image.png](data:image/png;base64,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)"
      ],
      "metadata": {
        "id": "ISoEYjtI8Utq"
      }
    },
    {
      "cell_type": "code",
      "source": [
        "!pip install -U prettytable"
      ],
      "metadata": {
        "colab": {
          "base_uri": "https://localhost:8080/"
        },
        "id": "NR3TVFkK-2yU",
        "outputId": "fc4bb434-4e51-46a6-f6c0-7fa408f38276"
      },
      "execution_count": 6,
      "outputs": [
        {
          "output_type": "stream",
          "name": "stdout",
          "text": [
            "Looking in indexes: https://pypi.org/simple, https://us-python.pkg.dev/colab-wheels/public/simple/\n",
            "Requirement already satisfied: prettytable in /usr/local/lib/python3.7/dist-packages (3.4.1)\n",
            "Requirement already satisfied: wcwidth in /usr/local/lib/python3.7/dist-packages (from prettytable) (0.2.5)\n",
            "Requirement already satisfied: importlib-metadata in /usr/local/lib/python3.7/dist-packages (from prettytable) (4.12.0)\n",
            "Requirement already satisfied: zipp>=0.5 in /usr/local/lib/python3.7/dist-packages (from importlib-metadata->prettytable) (3.8.1)\n",
            "Requirement already satisfied: typing-extensions>=3.6.4 in /usr/local/lib/python3.7/dist-packages (from importlib-metadata->prettytable) (4.1.1)\n"
          ]
        }
      ]
    },
    {
      "cell_type": "code",
      "source": [
        "from prettytable import PrettyTable\n",
        "std_list = [['Student Name', 'Class', 'Section','Percentage'],[\"Leonord\",'X','B', 91.2], ['Penny','X','C', 63.5],['Howard','X','A', 90.23],['Bernadette','X','D', 92.7],['Sheldon','X','A', 98.2],\n",
        "            ['Raj','X','B', 88.1],['Amy','X','B', 95.0],['Penny','X','C', 63.5]]\n",
        "header = [['Student Name', 'Class', 'Section','Percentage']]\n",
        "tab = PrettyTable(std_list[0])\n",
        "tab.add_rows(std_list[1:])\n",
        "print(tab)"
      ],
      "metadata": {
        "colab": {
          "base_uri": "https://localhost:8080/"
        },
        "id": "_uFa5QGl8zBI",
        "outputId": "086359ca-5036-455b-f3ea-db2456fcda18"
      },
      "execution_count": 5,
      "outputs": [
        {
          "output_type": "stream",
          "name": "stdout",
          "text": [
            "+--------------+-------+---------+------------+\n",
            "| Student Name | Class | Section | Percentage |\n",
            "+--------------+-------+---------+------------+\n",
            "|   Leonord    |   X   |    B    |    91.2    |\n",
            "|    Penny     |   X   |    C    |    63.5    |\n",
            "|    Howard    |   X   |    A    |   90.23    |\n",
            "|  Bernadette  |   X   |    D    |    92.7    |\n",
            "|   Sheldon    |   X   |    A    |    98.2    |\n",
            "|     Raj      |   X   |    B    |    88.1    |\n",
            "|     Amy      |   X   |    B    |    95.0    |\n",
            "|    Penny     |   X   |    C    |    63.5    |\n",
            "+--------------+-------+---------+------------+\n"
          ]
        }
      ]
    },
    {
      "cell_type": "markdown",
      "metadata": {
        "id": "W1NV_XAW4Ssi"
      },
      "source": [
        "\n",
        "5. Write a Python code to accept string input from a user and store words in that string to the list. (words are seperated by a '*'.)\n",
        "```\n",
        "Sample String : words*are*seperated*by*one**or*multiple****stars.\n",
        "Expected Result : ['words','are','seperated','by', 'one' ,'or', 'multiple','white', 'stars.']\n",
        "```\n",
        "\n",
        "**\n"
      ]
    },
    {
      "cell_type": "code",
      "metadata": {
        "id": "rI_eP3Yz5bx_",
        "colab": {
          "base_uri": "https://localhost:8080/"
        },
        "outputId": "a55ec672-d73f-459f-b117-e35220c1527e"
      },
      "source": [
        "str_ = input('Enter a string:')\n",
        "str_list = str_.split(\"*\")\n",
        "print(str_list)\n",
        "while '' in str_list:\n",
        "  str_list.remove(\"\")\n",
        "print(str_list)\n"
      ],
      "execution_count": null,
      "outputs": [
        {
          "output_type": "stream",
          "name": "stdout",
          "text": [
            "Enter a string:words*are*seperated*by*one**or*multiple****stars.\n",
            "['words', 'are', 'seperated', 'by', 'one', '', 'or', 'multiple', '', '', '', 'stars.']\n",
            "['words', 'are', 'seperated', 'by', 'one', 'or', 'multiple', 'stars.']\n"
          ]
        }
      ]
    }
  ]
}